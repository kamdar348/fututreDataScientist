{
 "cells": [
  {
   "cell_type": "code",
   "execution_count": 8,
   "id": "d983e71f",
   "metadata": {
    "scrolled": true
   },
   "outputs": [
    {
     "name": "stdout",
     "output_type": "stream",
     "text": [
      "Twinkle, twinkle, little star,\n",
      "          How I wonder what you are!\n",
      "                  Up above world so high,\n",
      "                   Like a diamond in the sky,\n",
      "Twinkle, twinkle, little star,\n",
      "          How I wonder what you are!\n"
     ]
    }
   ],
   "source": [
    "#1. write a python program to print the following string in  specific format(see the out put),\n",
    "# Twinkle, twinkle, little star,\n",
    "#           How I wonder what you are!\n",
    "#                   Up above world so high,\n",
    "#                    Like a diamond in the sky,\n",
    "# Twinkle, twinkle, little star,\n",
    "#           How I wonder what you are\n",
    "\n",
    "print(\"Twinkle, twinkle, little star,\");\n",
    "print(\"          How I wonder what you are!\");\n",
    "print(\"                  Up above world so high,\");\n",
    "print(\"                   Like a diamond in the sky,\");\n",
    "print(\"Twinkle, twinkle, little star,\");\n",
    "print(\"          How I wonder what you are!\");"
   ]
  },
  {
   "cell_type": "code",
   "execution_count": 9,
   "id": "39a3dba1",
   "metadata": {},
   "outputs": [
    {
     "name": "stdout",
     "output_type": "stream",
     "text": [
      "Python version\n",
      "3.9.7 (default, Sep 16 2021, 16:59:28) [MSC v.1916 64 bit (AMD64)]\n",
      "Version info.\n",
      "sys.version_info(major=3, minor=9, micro=7, releaselevel='final', serial=0)\n"
     ]
    }
   ],
   "source": [
    "#2. Write a python program to get the python version you are using\n",
    "import sys\n",
    "print(\"Python version\")\n",
    "print (sys.version)\n",
    "print(\"Version info.\")\n",
    "print (sys.version_info)"
   ]
  },
  {
   "cell_type": "code",
   "execution_count": 10,
   "id": "15ccd685",
   "metadata": {},
   "outputs": [
    {
     "name": "stdout",
     "output_type": "stream",
     "text": [
      "current date and time is:\n",
      "2021-12-29  00,08,25\n"
     ]
    }
   ],
   "source": [
    "#3. write a python program to display current date and time\n",
    "import datetime\n",
    "now = datetime.datetime.now()\n",
    "print(\"current date and time is:\");\n",
    "print(now.strftime(\"%Y-%m-%d  %H,%M,%S\"));"
   ]
  },
  {
   "cell_type": "code",
   "execution_count": 11,
   "id": "fcf94fce",
   "metadata": {},
   "outputs": [
    {
     "name": "stdout",
     "output_type": "stream",
     "text": [
      "Input the radius of the circle : 565\n",
      "The area of the circle with radius 565.0 is: 1002874.9148422017\n"
     ]
    }
   ],
   "source": [
    "# 4. Write a Python program which accepts the radius of a circle from the user and compute the area.\n",
    "from math import pi\n",
    "r = float(input (\"Input the radius of the circle : \"))\n",
    "print (\"The area of the circle with radius \" + str(r) + \" is: \" + str(pi * r**2))"
   ]
  },
  {
   "cell_type": "code",
   "execution_count": 12,
   "id": "b5684961",
   "metadata": {},
   "outputs": [
    {
     "name": "stdout",
     "output_type": "stream",
     "text": [
      "Input your First Name : ALi\n",
      "Input your Last Name : mughal\n",
      "Hello  mughal ALi\n"
     ]
    }
   ],
   "source": [
    "# 5. Write a Python program which accepts the user's first and last name and print them in reverse order with a space between them.\n",
    "fname = input(\"Input your First Name : \")\n",
    "lname = input(\"Input your Last Name : \")\n",
    "print (\"Hello  \" + lname + \" \" + fname)"
   ]
  },
  {
   "cell_type": "code",
   "execution_count": 14,
   "id": "ff346fb8",
   "metadata": {},
   "outputs": [
    {
     "name": "stdout",
     "output_type": "stream",
     "text": [
      "Enter number 110000\n",
      "Enter number 257358375834\n",
      "10000 + 57358375834 = 57358385834\n"
     ]
    }
   ],
   "source": [
    "#6. write a python program which takes two input from user and print them in addotion\n",
    "num1 = int(input(\"Enter number 1\"));\n",
    "num2 = int(input(\"Enter number 2\"));\n",
    "result = num1 + num2;\n",
    "print (num1, \"+\" ,num2, \"=\", result,);"
   ]
  },
  {
   "cell_type": "code",
   "execution_count": null,
   "id": "1c894f86",
   "metadata": {},
   "outputs": [],
   "source": []
  }
 ],
 "metadata": {
  "kernelspec": {
   "display_name": "Python 3 (ipykernel)",
   "language": "python",
   "name": "python3"
  },
  "language_info": {
   "codemirror_mode": {
    "name": "ipython",
    "version": 3
   },
   "file_extension": ".py",
   "mimetype": "text/x-python",
   "name": "python",
   "nbconvert_exporter": "python",
   "pygments_lexer": "ipython3",
   "version": "3.9.7"
  }
 },
 "nbformat": 4,
 "nbformat_minor": 5
}
